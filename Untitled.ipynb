{
 "cells": [
  {
   "cell_type": "markdown",
   "metadata": {},
   "source": [
    "# The Realest POTUS Twits"
   ]
  },
  {
   "cell_type": "markdown",
   "metadata": {},
   "source": [
    "This project will be split into three parts:\n",
    "* 1. web scrapping - I'll try to scrap out all of the word twits from President Donald Trump and save it into a dataset for usage\n",
    "* 2. NLP - using the dataset scrapped, I'll make a NLP model that will generate fake twits\n",
    "* 3. Basic UI - I'll make a python file that abstract the function from the NLP into a usable, more fun"
   ]
  }
 ],
 "metadata": {
  "kernelspec": {
   "display_name": "Python 3.7 (tensorflow)",
   "language": "python",
   "name": "tensorflow"
  },
  "language_info": {
   "codemirror_mode": {
    "name": "ipython",
    "version": 3
   },
   "file_extension": ".py",
   "mimetype": "text/x-python",
   "name": "python",
   "nbconvert_exporter": "python",
   "pygments_lexer": "ipython3",
   "version": "3.7.7"
  }
 },
 "nbformat": 4,
 "nbformat_minor": 2
}
